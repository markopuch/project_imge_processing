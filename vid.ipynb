{
 "cells": [
  {
   "cell_type": "code",
   "execution_count": 18,
   "metadata": {},
   "outputs": [],
   "source": [
    "import numpy as np\n",
    "import cv2 \n",
    "import matplotlib.pyplot as plt"
   ]
  },
  {
   "cell_type": "code",
   "execution_count": 19,
   "metadata": {},
   "outputs": [],
   "source": [
    "cap=cv2.VideoCapture('samples/test_video_4.MOV')\n",
    "kernel=5\n",
    "\n",
    "limite=120\n",
    "\n",
    "ng=17 #vecindad\n",
    "c=3 #constante\n",
    "\n",
    "\n",
    "while (cap.isOpened()):\n",
    "    success, img=cap.read()\n",
    "    cv2.imshow('original',img)\n",
    "\n",
    "    n=np.copy(img)\n",
    "    n=cv2.resize(n,(1900,1000))\n",
    "    n=cv2.cvtColor(n,cv2.COLOR_BGR2GRAY)\n",
    "    n=cv2.GaussianBlur(n,(kernel,kernel),3)\n",
    "#     n=cv2.adaptiveThreshold(n,255,cv2.ADAPTIVE_THRESH_GAUSSIAN_C,\\\n",
    "#             cv2.THRESH_BINARY_INV,ng,c)\n",
    "\n",
    "    ret,n=cv2.threshold(n,limite,255,cv2.THRESH_BINARY)\n",
    "    \n",
    "    cv2.imshow('process',n)\n",
    "\n",
    "\n",
    "    if cv2.waitKey(1) & 0xFF==ord('q'):\n",
    "        break\n",
    "cap.release()\n",
    "cv2.destroyAllWindows()"
   ]
  }
 ],
 "metadata": {
  "kernelspec": {
   "display_name": "Python 3.8.3 ('base')",
   "language": "python",
   "name": "python3"
  },
  "language_info": {
   "codemirror_mode": {
    "name": "ipython",
    "version": 3
   },
   "file_extension": ".py",
   "mimetype": "text/x-python",
   "name": "python",
   "nbconvert_exporter": "python",
   "pygments_lexer": "ipython3",
   "version": "3.8.3"
  },
  "orig_nbformat": 4,
  "vscode": {
   "interpreter": {
    "hash": "37803e6098dc0feaed5db3a47726c754fa563a42f5955b227a2791c9fe7e7acf"
   }
  }
 },
 "nbformat": 4,
 "nbformat_minor": 2
}
